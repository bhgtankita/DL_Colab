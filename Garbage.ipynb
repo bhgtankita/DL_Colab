{
  "nbformat": 4,
  "nbformat_minor": 0,
  "metadata": {
    "colab": {
      "name": "Garbage.ipynb",
      "version": "0.3.2",
      "provenance": [],
      "collapsed_sections": [],
      "include_colab_link": true
    },
    "kernelspec": {
      "name": "python3",
      "display_name": "Python 3"
    },
    "accelerator": "GPU"
  },
  "cells": [
    {
      "cell_type": "markdown",
      "metadata": {
        "id": "view-in-github",
        "colab_type": "text"
      },
      "source": [
        "<a href=\"https://colab.research.google.com/github/bhgtankita/DL_Colab/blob/master/Garbage.ipynb\" target=\"_parent\"><img src=\"https://colab.research.google.com/assets/colab-badge.svg\" alt=\"Open In Colab\"/></a>"
      ]
    },
    {
      "cell_type": "code",
      "metadata": {
        "id": "q7jPfpd2psUK",
        "colab_type": "code",
        "colab": {
          "base_uri": "https://localhost:8080/",
          "height": 232
        },
        "outputId": "68db3f33-6324-441d-f5e0-873663008c6d"
      },
      "source": [
        "!wget --header=\"Host: doc-04-54-docs.googleusercontent.com\" --header=\"User-Agent: Mozilla/5.0 (Windows NT 10.0; Win64; x64) AppleWebKit/537.36 (KHTML, like Gecko) Chrome/75.0.3770.142 Safari/537.36\" --header=\"Accept: text/html,application/xhtml+xml,application/xml;q=0.9,image/webp,image/apng,*/*;q=0.8,application/signed-exchange;v=b3\" --header=\"Accept-Language: en-US,en;q=0.9\" --header=\"Referer: https://drive.google.com/drive/folders/0B3P9oO5A3RvSUW9qTG11Ul83TEE\" --header=\"Cookie: AUTH_8i4qcj29pfugg26jaivfj1dsu40avhjo_nonce=ga23h7ldl0gbe\" --header=\"Connection: keep-alive\" \"https://doc-04-54-docs.googleusercontent.com/docs/securesc/ohtcfprsa3vqsg41cl0o62sdpk302ip0/855f8drdm3atrf9sk8evrs12r5thklu9/1563638400000/02936877558474928743/01013830422934825035/0B3P9oO5A3RvSNWw5X0c5R1hJRnc?e=download&nonce=ga23h7ldl0gbe&user=01013830422934825035&hash=sjoekp98r9157q387942ckfdma5i7pgh\" -O \"dataset-resized.zip\" -c"
      ],
      "execution_count": 4,
      "outputs": [
        {
          "output_type": "stream",
          "text": [
            "--2019-07-20 17:24:48--  https://doc-04-54-docs.googleusercontent.com/docs/securesc/ohtcfprsa3vqsg41cl0o62sdpk302ip0/855f8drdm3atrf9sk8evrs12r5thklu9/1563638400000/02936877558474928743/01013830422934825035/0B3P9oO5A3RvSNWw5X0c5R1hJRnc?e=download&nonce=ga23h7ldl0gbe&user=01013830422934825035&hash=sjoekp98r9157q387942ckfdma5i7pgh\n",
            "Resolving doc-04-54-docs.googleusercontent.com (doc-04-54-docs.googleusercontent.com)... 64.233.167.132, 2a00:1450:400c:c0a::84\n",
            "Connecting to doc-04-54-docs.googleusercontent.com (doc-04-54-docs.googleusercontent.com)|64.233.167.132|:443... connected.\n",
            "HTTP request sent, awaiting response... 200 OK\n",
            "Length: unspecified [application/zip]\n",
            "Saving to: ‘dataset-resized.zip’\n",
            "\n",
            "dataset-resized.zip     [      <=>           ]  40.85M  23.4MB/s    in 1.7s    \n",
            "\n",
            "2019-07-20 17:24:51 (23.4 MB/s) - ‘dataset-resized.zip’ saved [42834870]\n",
            "\n"
          ],
          "name": "stdout"
        }
      ]
    },
    {
      "cell_type": "code",
      "metadata": {
        "id": "ciR-D_wlpwWm",
        "colab_type": "code",
        "colab": {}
      },
      "source": [
        "!unzip -q dataset-resized.zip"
      ],
      "execution_count": 0,
      "outputs": []
    },
    {
      "cell_type": "code",
      "metadata": {
        "id": "pD6ZwQjVpyY-",
        "colab_type": "code",
        "colab": {
          "base_uri": "https://localhost:8080/",
          "height": 35
        },
        "outputId": "fd9686e2-41b5-4194-c866-2b1d080d41fc"
      },
      "source": [
        "!ls dataset-resized"
      ],
      "execution_count": 6,
      "outputs": [
        {
          "output_type": "stream",
          "text": [
            "cardboard  glass  metal  paper\tplastic  trash\n"
          ],
          "name": "stdout"
        }
      ]
    },
    {
      "cell_type": "code",
      "metadata": {
        "id": "fZZg4xeGp99H",
        "colab_type": "code",
        "colab": {}
      },
      "source": [
        "from keras.utils import np_utils\n",
        "import os\n",
        "import numpy as np\n",
        "from PIL import Image\n",
        "from keras import callbacks\n",
        "from keras import optimizers\n",
        "from keras.callbacks import ReduceLROnPlateau, CSVLogger, EarlyStopping, ModelCheckpoint\n",
        "from keras.models import Model\n",
        "from keras.layers import Activation, Convolution2D, Dropout, GlobalAveragePooling2D, Concatenate, Dense, Input, AveragePooling2D, MaxPooling2D\n",
        "from keras.layers.normalization import BatchNormalization\n",
        "from keras.regularizers import l2\n",
        "from keras.models import load_model\n",
        "from keras.optimizers import Adam\n",
        "import pandas as pd"
      ],
      "execution_count": 0,
      "outputs": []
    },
    {
      "cell_type": "code",
      "metadata": {
        "id": "waiV6zu7qBDJ",
        "colab_type": "code",
        "colab": {}
      },
      "source": [
        "__version__ = '0.0.2'\n",
        "\n",
        "img_channels=3\n",
        "img_rows=200\n",
        "img_cols=200\n",
        "nb_classes=6\n",
        "batch_size=64\n",
        "nb_epoch = 50\n",
        "data_augmentation = False"
      ],
      "execution_count": 0,
      "outputs": []
    },
    {
      "cell_type": "code",
      "metadata": {
        "id": "lbGl543uzRD3",
        "colab_type": "code",
        "colab": {
          "base_uri": "https://localhost:8080/",
          "height": 35
        },
        "outputId": "4197c2c6-397c-45cd-e96f-50c404a014f2"
      },
      "source": [
        "os.listdir('dataset-resized')"
      ],
      "execution_count": 10,
      "outputs": [
        {
          "output_type": "execute_result",
          "data": {
            "text/plain": [
              "['cardboard', '.DS_Store', 'glass', 'paper', 'plastic', 'metal', 'trash']"
            ]
          },
          "metadata": {
            "tags": []
          },
          "execution_count": 10
        }
      ]
    },
    {
      "cell_type": "code",
      "metadata": {
        "id": "fWcqX1WSa4hW",
        "colab_type": "code",
        "colab": {}
      },
      "source": [
        "!rm -rf dataset-resized/.DS_Store"
      ],
      "execution_count": 0,
      "outputs": []
    },
    {
      "cell_type": "code",
      "metadata": {
        "id": "CDiDxh4NbEBX",
        "colab_type": "code",
        "colab": {
          "base_uri": "https://localhost:8080/",
          "height": 35
        },
        "outputId": "33db6ca8-587e-4681-f09a-90da0962fd8c"
      },
      "source": [
        "os.listdir('dataset-resized')"
      ],
      "execution_count": 12,
      "outputs": [
        {
          "output_type": "execute_result",
          "data": {
            "text/plain": [
              "['cardboard', 'glass', 'paper', 'plastic', 'metal', 'trash']"
            ]
          },
          "metadata": {
            "tags": []
          },
          "execution_count": 12
        }
      ]
    },
    {
      "cell_type": "code",
      "metadata": {
        "id": "fKuIYnYzqUKk",
        "colab_type": "code",
        "colab": {}
      },
      "source": [
        "def load_images(path,num_classes,img_size):\n",
        "    #Load images\n",
        "    \n",
        "    print('Loading ' + str(num_classes) + ' classes')\n",
        "\n",
        "    X_train=np.zeros([2527,3,img_size,img_size],dtype='uint8')\n",
        "#     X_train_filenames = np.empty(2527, dtype=object)\n",
        "    y_train=np.zeros([2527], dtype='uint8')\n",
        "\n",
        "    trainPath=path\n",
        "\n",
        "    print('loading training images...');\n",
        "\n",
        "    i=0\n",
        "#     j=0\n",
        "#     class_num={}\n",
        "    for sChild in os.listdir(trainPath):\n",
        "        sChildPath = os.path.join(trainPath,sChild)\n",
        "        print(sChildPath)\n",
        "        \n",
        "        class_num = os.listdir('dataset-resized').index(sChild)\n",
        "        \n",
        "#         annotations[sChild]=j\n",
        "        for c in os.listdir(sChildPath):\n",
        "            #X=np.array(Image.open(os.path.join(sChildPath,c)))\n",
        "            im = Image.open(os.path.join(sChildPath,c))\n",
        "#             X_train_filenames[i] = im.filename\n",
        "            X=np.array(im.resize((img_size,img_size)))\n",
        "            if len(np.shape(X))==2:\n",
        "                X_train[i]=np.array([X,X,X])\n",
        "            else:\n",
        "                X_train[i]=np.transpose(X,(2,0,1))\n",
        "            y_train[i]=class_num\n",
        "            i+=1\n",
        "#         j+=1\n",
        "#         if (j >= num_classes):\n",
        "#             break\n",
        "\n",
        "    print('finished loading training images')\n",
        "\n",
        "#     val_annotations_map = get_annotations_map()\n",
        "\n",
        "#     X_test = np.zeros([num_classes*50,3,img_size,img_size],dtype='uint8')\n",
        "#     y_test = np.zeros([num_classes*50], dtype='uint8')\n",
        "\n",
        "\n",
        "#     print('loading test images...')\n",
        "\n",
        "#     i = 0\n",
        "#     testPath=path+'/val/images'\n",
        "#     for sChild in os.listdir(testPath):\n",
        "#         if val_annotations_map[sChild] in annotations.keys():\n",
        "#             sChildPath = os.path.join(testPath, sChild)\n",
        "#             im=Image.open(sChildPath)\n",
        "#             X=np.array(im.resize((img_size,img_size)))\n",
        "#             #X=np.array(Image.open(sChildPath))\n",
        "#             if len(np.shape(X))==2:\n",
        "#                 X_test[i]=np.array([X,X,X])\n",
        "#             else:\n",
        "#                 X_test[i]=np.transpose(X,(2,0,1))\n",
        "#             y_test[i]=annotations[val_annotations_map[sChild]]\n",
        "#             i+=1\n",
        "#         else:\n",
        "#             pass\n",
        "\n",
        "\n",
        "    print(\"finished loading test images\"+str(i))\n",
        "    \n",
        "    X_train = np.moveaxis(X_train, 1,-1)\n",
        "#     X_test = np.moveaxis(X_test, 1,-1)\n",
        "    y_train = np_utils.to_categorical(y_train, nb_classes)\n",
        "#     y_test = np_utils.to_categorical(y_test, nb_classes)\n",
        "    \n",
        "    return X_train,y_train"
      ],
      "execution_count": 0,
      "outputs": []
    },
    {
      "cell_type": "code",
      "metadata": {
        "id": "ew9XkBupwyii",
        "colab_type": "code",
        "colab": {}
      },
      "source": [
        "def data_normalization(X_train):\n",
        "  X_train = X_train.astype('float32')\n",
        "#   X_test = X_test.astype('float32')\n",
        "\n",
        "  # subtract mean and normalize\n",
        "#   mean_image = np.mean(X_train, axis=0)\n",
        "#   X_train -= mean_image\n",
        "#   X_test -= mean_image\n",
        "  X_train /= 255.\n",
        "#   X_test /= 255.\n",
        "  \n",
        "  return X_train"
      ],
      "execution_count": 0,
      "outputs": []
    },
    {
      "cell_type": "code",
      "metadata": {
        "id": "Vq_KYx-qw_2Y",
        "colab_type": "code",
        "colab": {
          "base_uri": "https://localhost:8080/",
          "height": 212
        },
        "outputId": "7abb7a91-606e-492c-ba07-6e608111c3cc"
      },
      "source": [
        "path='dataset-resized'\n",
        "X_train,y_train=load_images(path,nb_classes,img_rows)\n",
        "print(X_train.shape)\n",
        "# print(X_test.shape)\n",
        "\n",
        "X_train = data_normalization(X_train)"
      ],
      "execution_count": 44,
      "outputs": [
        {
          "output_type": "stream",
          "text": [
            "Loading 6 classes\n",
            "loading training images...\n",
            "dataset-resized/cardboard\n",
            "dataset-resized/glass\n",
            "dataset-resized/paper\n",
            "dataset-resized/plastic\n",
            "dataset-resized/metal\n",
            "dataset-resized/trash\n",
            "finished loading training images\n",
            "finished loading test images2527\n",
            "(2527, 200, 200, 3)\n"
          ],
          "name": "stdout"
        }
      ]
    },
    {
      "cell_type": "code",
      "metadata": {
        "id": "gBSrjXSqOC3K",
        "colab_type": "code",
        "colab": {}
      },
      "source": [
        "from keras.models import Sequential\n",
        "from keras.layers import Dense, Dropout, Activation, Flatten, Add\n",
        "from keras.layers import Convolution2D, MaxPooling2D\n",
        "from keras.utils import np_utils"
      ],
      "execution_count": 0,
      "outputs": []
    },
    {
      "cell_type": "code",
      "metadata": {
        "id": "cJKGR437MSiI",
        "colab_type": "code",
        "colab": {
          "base_uri": "https://localhost:8080/",
          "height": 568
        },
        "outputId": "26b6e991-f50a-4ffb-ec09-0291b707f91d"
      },
      "source": [
        "model = Sequential()\n",
        " \n",
        "model.add(Convolution2D(8, 3, 3, activation='relu', input_shape=X_train.shape[1:]))\n",
        "model.add(Convolution2D(16, 3, 3, activation='relu'))\n",
        "model.add(Convolution2D(32, 3, 3, activation='relu'))\n",
        "model.add(Convolution2D(64, 1, 1, activation='relu'))\n",
        "model.add(MaxPooling2D(pool_size=(2, 2)))\n",
        "\n",
        "model.add(Convolution2D(64, 3, 3, activation='relu'))\n",
        "model.add(Convolution2D(128, 3, 3, activation='relu'))\n",
        "model.add(Convolution2D(256, 3, 3, activation='relu'))\n",
        "model.add(Convolution2D(512, 1, 1, activation='relu'))\n",
        "model.add(MaxPooling2D(pool_size=(2, 2)))\n",
        "\n",
        "model.add(Convolution2D(512, 3, 3, activation='relu'))\n",
        "model.add(Convolution2D(256, 3, 3, activation='relu'))\n",
        "model.add(Convolution2D(128, 3, 3, activation='relu'))\n",
        "model.add(Convolution2D(64, 1, 1, activation='relu'))\n",
        "model.add(MaxPooling2D(pool_size=(2, 2)))\n",
        "\n",
        "model.add(Convolution2D(64, 3, 3, activation='relu'))\n",
        "model.add(Convolution2D(32, 3, 3, activation='relu'))\n",
        "model.add(Convolution2D(16, 3, 3, activation='relu'))\n",
        "model.add(Convolution2D(8, 3, 3, activation='relu'))\n",
        "model.add(Convolution2D(8, 3, 3, activation='relu'))\n",
        "model.add(Convolution2D(8, 3, 3, activation='relu'))\n",
        "model.add(Convolution2D(8, 3, 3, activation='relu'))\n",
        "model.add(Convolution2D(6, 3, 3, activation='relu'))\n",
        "model.add(Convolution2D(6, 3, 3))\n",
        "model.add(Flatten())\n",
        "model.add(Activation('softmax'))"
      ],
      "execution_count": 59,
      "outputs": [
        {
          "output_type": "stream",
          "text": [
            "/usr/local/lib/python3.6/dist-packages/ipykernel_launcher.py:3: UserWarning: Update your `Conv2D` call to the Keras 2 API: `Conv2D(8, (3, 3), activation=\"relu\", input_shape=(200, 200,...)`\n",
            "  This is separate from the ipykernel package so we can avoid doing imports until\n",
            "/usr/local/lib/python3.6/dist-packages/ipykernel_launcher.py:4: UserWarning: Update your `Conv2D` call to the Keras 2 API: `Conv2D(16, (3, 3), activation=\"relu\")`\n",
            "  after removing the cwd from sys.path.\n",
            "/usr/local/lib/python3.6/dist-packages/ipykernel_launcher.py:5: UserWarning: Update your `Conv2D` call to the Keras 2 API: `Conv2D(32, (3, 3), activation=\"relu\")`\n",
            "  \"\"\"\n",
            "/usr/local/lib/python3.6/dist-packages/ipykernel_launcher.py:6: UserWarning: Update your `Conv2D` call to the Keras 2 API: `Conv2D(64, (1, 1), activation=\"relu\")`\n",
            "  \n",
            "/usr/local/lib/python3.6/dist-packages/ipykernel_launcher.py:9: UserWarning: Update your `Conv2D` call to the Keras 2 API: `Conv2D(64, (3, 3), activation=\"relu\")`\n",
            "  if __name__ == '__main__':\n",
            "/usr/local/lib/python3.6/dist-packages/ipykernel_launcher.py:10: UserWarning: Update your `Conv2D` call to the Keras 2 API: `Conv2D(128, (3, 3), activation=\"relu\")`\n",
            "  # Remove the CWD from sys.path while we load stuff.\n",
            "/usr/local/lib/python3.6/dist-packages/ipykernel_launcher.py:11: UserWarning: Update your `Conv2D` call to the Keras 2 API: `Conv2D(256, (3, 3), activation=\"relu\")`\n",
            "  # This is added back by InteractiveShellApp.init_path()\n",
            "/usr/local/lib/python3.6/dist-packages/ipykernel_launcher.py:12: UserWarning: Update your `Conv2D` call to the Keras 2 API: `Conv2D(512, (1, 1), activation=\"relu\")`\n",
            "  if sys.path[0] == '':\n",
            "/usr/local/lib/python3.6/dist-packages/ipykernel_launcher.py:15: UserWarning: Update your `Conv2D` call to the Keras 2 API: `Conv2D(512, (3, 3), activation=\"relu\")`\n",
            "  from ipykernel import kernelapp as app\n",
            "/usr/local/lib/python3.6/dist-packages/ipykernel_launcher.py:16: UserWarning: Update your `Conv2D` call to the Keras 2 API: `Conv2D(256, (3, 3), activation=\"relu\")`\n",
            "  app.launch_new_instance()\n",
            "/usr/local/lib/python3.6/dist-packages/ipykernel_launcher.py:17: UserWarning: Update your `Conv2D` call to the Keras 2 API: `Conv2D(128, (3, 3), activation=\"relu\")`\n",
            "/usr/local/lib/python3.6/dist-packages/ipykernel_launcher.py:18: UserWarning: Update your `Conv2D` call to the Keras 2 API: `Conv2D(64, (1, 1), activation=\"relu\")`\n",
            "/usr/local/lib/python3.6/dist-packages/ipykernel_launcher.py:21: UserWarning: Update your `Conv2D` call to the Keras 2 API: `Conv2D(64, (3, 3), activation=\"relu\")`\n",
            "/usr/local/lib/python3.6/dist-packages/ipykernel_launcher.py:22: UserWarning: Update your `Conv2D` call to the Keras 2 API: `Conv2D(32, (3, 3), activation=\"relu\")`\n",
            "/usr/local/lib/python3.6/dist-packages/ipykernel_launcher.py:23: UserWarning: Update your `Conv2D` call to the Keras 2 API: `Conv2D(16, (3, 3), activation=\"relu\")`\n",
            "/usr/local/lib/python3.6/dist-packages/ipykernel_launcher.py:24: UserWarning: Update your `Conv2D` call to the Keras 2 API: `Conv2D(8, (3, 3), activation=\"relu\")`\n",
            "/usr/local/lib/python3.6/dist-packages/ipykernel_launcher.py:25: UserWarning: Update your `Conv2D` call to the Keras 2 API: `Conv2D(8, (3, 3), activation=\"relu\")`\n",
            "/usr/local/lib/python3.6/dist-packages/ipykernel_launcher.py:26: UserWarning: Update your `Conv2D` call to the Keras 2 API: `Conv2D(8, (3, 3), activation=\"relu\")`\n",
            "/usr/local/lib/python3.6/dist-packages/ipykernel_launcher.py:27: UserWarning: Update your `Conv2D` call to the Keras 2 API: `Conv2D(8, (3, 3), activation=\"relu\")`\n",
            "/usr/local/lib/python3.6/dist-packages/ipykernel_launcher.py:28: UserWarning: Update your `Conv2D` call to the Keras 2 API: `Conv2D(6, (3, 3), activation=\"relu\")`\n",
            "/usr/local/lib/python3.6/dist-packages/ipykernel_launcher.py:29: UserWarning: Update your `Conv2D` call to the Keras 2 API: `Conv2D(6, (3, 3))`\n"
          ],
          "name": "stderr"
        }
      ]
    },
    {
      "cell_type": "code",
      "metadata": {
        "id": "2KGHVRXcOUto",
        "colab_type": "code",
        "colab": {
          "base_uri": "https://localhost:8080/",
          "height": 1000
        },
        "outputId": "c3053282-6204-4931-c131-af4b583ffa18"
      },
      "source": [
        "model.summary()"
      ],
      "execution_count": 60,
      "outputs": [
        {
          "output_type": "stream",
          "text": [
            "_________________________________________________________________\n",
            "Layer (type)                 Output Shape              Param #   \n",
            "=================================================================\n",
            "conv2d_64 (Conv2D)           (None, 198, 198, 8)       224       \n",
            "_________________________________________________________________\n",
            "conv2d_65 (Conv2D)           (None, 196, 196, 16)      1168      \n",
            "_________________________________________________________________\n",
            "conv2d_66 (Conv2D)           (None, 194, 194, 32)      4640      \n",
            "_________________________________________________________________\n",
            "conv2d_67 (Conv2D)           (None, 194, 194, 64)      2112      \n",
            "_________________________________________________________________\n",
            "max_pooling2d_10 (MaxPooling (None, 97, 97, 64)        0         \n",
            "_________________________________________________________________\n",
            "conv2d_68 (Conv2D)           (None, 95, 95, 64)        36928     \n",
            "_________________________________________________________________\n",
            "conv2d_69 (Conv2D)           (None, 93, 93, 128)       73856     \n",
            "_________________________________________________________________\n",
            "conv2d_70 (Conv2D)           (None, 91, 91, 256)       295168    \n",
            "_________________________________________________________________\n",
            "conv2d_71 (Conv2D)           (None, 91, 91, 512)       131584    \n",
            "_________________________________________________________________\n",
            "max_pooling2d_11 (MaxPooling (None, 45, 45, 512)       0         \n",
            "_________________________________________________________________\n",
            "conv2d_72 (Conv2D)           (None, 43, 43, 512)       2359808   \n",
            "_________________________________________________________________\n",
            "conv2d_73 (Conv2D)           (None, 41, 41, 256)       1179904   \n",
            "_________________________________________________________________\n",
            "conv2d_74 (Conv2D)           (None, 39, 39, 128)       295040    \n",
            "_________________________________________________________________\n",
            "conv2d_75 (Conv2D)           (None, 39, 39, 64)        8256      \n",
            "_________________________________________________________________\n",
            "max_pooling2d_12 (MaxPooling (None, 19, 19, 64)        0         \n",
            "_________________________________________________________________\n",
            "conv2d_76 (Conv2D)           (None, 17, 17, 64)        36928     \n",
            "_________________________________________________________________\n",
            "conv2d_77 (Conv2D)           (None, 15, 15, 32)        18464     \n",
            "_________________________________________________________________\n",
            "conv2d_78 (Conv2D)           (None, 13, 13, 16)        4624      \n",
            "_________________________________________________________________\n",
            "conv2d_79 (Conv2D)           (None, 11, 11, 8)         1160      \n",
            "_________________________________________________________________\n",
            "conv2d_80 (Conv2D)           (None, 9, 9, 8)           584       \n",
            "_________________________________________________________________\n",
            "conv2d_81 (Conv2D)           (None, 7, 7, 8)           584       \n",
            "_________________________________________________________________\n",
            "conv2d_82 (Conv2D)           (None, 5, 5, 8)           584       \n",
            "_________________________________________________________________\n",
            "conv2d_83 (Conv2D)           (None, 3, 3, 6)           438       \n",
            "_________________________________________________________________\n",
            "conv2d_84 (Conv2D)           (None, 1, 1, 6)           330       \n",
            "_________________________________________________________________\n",
            "flatten_4 (Flatten)          (None, 6)                 0         \n",
            "_________________________________________________________________\n",
            "activation_4 (Activation)    (None, 6)                 0         \n",
            "=================================================================\n",
            "Total params: 4,452,384\n",
            "Trainable params: 4,452,384\n",
            "Non-trainable params: 0\n",
            "_________________________________________________________________\n"
          ],
          "name": "stdout"
        }
      ]
    },
    {
      "cell_type": "code",
      "metadata": {
        "id": "Hb_XLYQrMQNd",
        "colab_type": "code",
        "colab": {}
      },
      "source": [
        "model.compile(loss='categorical_crossentropy',\n",
        "             optimizer='adam',\n",
        "             metrics=['accuracy'])"
      ],
      "execution_count": 0,
      "outputs": []
    },
    {
      "cell_type": "code",
      "metadata": {
        "id": "9XhFo01Ug1Ak",
        "colab_type": "code",
        "colab": {
          "base_uri": "https://localhost:8080/",
          "height": 888
        },
        "outputId": "b6165321-12be-42ab-c445-fe6d9d65e39f"
      },
      "source": [
        "X_train[0]"
      ],
      "execution_count": 62,
      "outputs": [
        {
          "output_type": "execute_result",
          "data": {
            "text/plain": [
              "array([[[0.827451  , 0.6627451 , 0.49803922],\n",
              "        [0.84705883, 0.68235296, 0.5176471 ],\n",
              "        [0.84313726, 0.6784314 , 0.5137255 ],\n",
              "        ...,\n",
              "        [0.62352943, 0.52156866, 0.42352942],\n",
              "        [0.627451  , 0.5254902 , 0.42745098],\n",
              "        [0.62352943, 0.52156866, 0.42352942]],\n",
              "\n",
              "       [[0.85490197, 0.6901961 , 0.5254902 ],\n",
              "        [0.85882354, 0.69411767, 0.5294118 ],\n",
              "        [0.84705883, 0.68235296, 0.5176471 ],\n",
              "        ...,\n",
              "        [0.627451  , 0.5254902 , 0.42745098],\n",
              "        [0.6313726 , 0.5294118 , 0.43137255],\n",
              "        [0.61960787, 0.5176471 , 0.41960785]],\n",
              "\n",
              "       [[0.85882354, 0.69411767, 0.5294118 ],\n",
              "        [0.8509804 , 0.6862745 , 0.52156866],\n",
              "        [0.83137256, 0.6666667 , 0.5019608 ],\n",
              "        ...,\n",
              "        [0.627451  , 0.5254902 , 0.42745098],\n",
              "        [0.6392157 , 0.5372549 , 0.4392157 ],\n",
              "        [0.61960787, 0.5176471 , 0.41960785]],\n",
              "\n",
              "       ...,\n",
              "\n",
              "       [[0.94509804, 0.78039217, 0.6156863 ],\n",
              "        [0.9372549 , 0.77254903, 0.60784316],\n",
              "        [0.9098039 , 0.74509805, 0.5803922 ],\n",
              "        ...,\n",
              "        [0.8392157 , 0.6745098 , 0.50980395],\n",
              "        [0.83137256, 0.6666667 , 0.5019608 ],\n",
              "        [0.8235294 , 0.65882355, 0.49411765]],\n",
              "\n",
              "       [[0.94509804, 0.78039217, 0.6156863 ],\n",
              "        [0.94509804, 0.78039217, 0.6156863 ],\n",
              "        [0.91764706, 0.7529412 , 0.5882353 ],\n",
              "        ...,\n",
              "        [0.8392157 , 0.6745098 , 0.50980395],\n",
              "        [0.83137256, 0.6666667 , 0.5019608 ],\n",
              "        [0.80784315, 0.6431373 , 0.47843137]],\n",
              "\n",
              "       [[0.9647059 , 0.8       , 0.63529414],\n",
              "        [0.9764706 , 0.8117647 , 0.64705884],\n",
              "        [0.9372549 , 0.77254903, 0.60784316],\n",
              "        ...,\n",
              "        [0.8392157 , 0.6745098 , 0.50980395],\n",
              "        [0.827451  , 0.6627451 , 0.49803922],\n",
              "        [0.8       , 0.63529414, 0.47058824]]], dtype=float32)"
            ]
          },
          "metadata": {
            "tags": []
          },
          "execution_count": 62
        }
      ]
    },
    {
      "cell_type": "code",
      "metadata": {
        "id": "UDhCR5e4g_Ts",
        "colab_type": "code",
        "colab": {}
      },
      "source": [
        "import matplotlib.pyplot as plt"
      ],
      "execution_count": 0,
      "outputs": []
    },
    {
      "cell_type": "code",
      "metadata": {
        "id": "tnI--DBJgvR0",
        "colab_type": "code",
        "colab": {
          "base_uri": "https://localhost:8080/",
          "height": 269
        },
        "outputId": "fec5b76a-88e7-4e41-f5ea-492708204720"
      },
      "source": [
        "plt.imshow(X_train[500], cmap='gray')\n",
        "plt.show()"
      ],
      "execution_count": 64,
      "outputs": [
        {
          "output_type": "display_data",
          "data": {
            "image/png": "[encoded data removed]",
            "text/plain": [
              "<Figure size 432x288 with 1 Axes>"
            ]
          },
          "metadata": {
            "tags": []
          }
        }
      ]
    },
    {
      "cell_type": "code",
      "metadata": {
        "id": "CXpr_ithgvOs",
        "colab_type": "code",
        "colab": {
          "base_uri": "https://localhost:8080/",
          "height": 35
        },
        "outputId": "385ac5c9-7f50-48b4-d1fb-7dbaf9dcdf28"
      },
      "source": [
        "y_train[708]"
      ],
      "execution_count": 65,
      "outputs": [
        {
          "output_type": "execute_result",
          "data": {
            "text/plain": [
              "array([0., 1., 0., 0., 0., 0.], dtype=float32)"
            ]
          },
          "metadata": {
            "tags": []
          },
          "execution_count": 65
        }
      ]
    },
    {
      "cell_type": "code",
      "metadata": {
        "id": "WAgVOEHtOZhB",
        "colab_type": "code",
        "colab": {
          "base_uri": "https://localhost:8080/",
          "height": 1000
        },
        "outputId": "45d78976-b449-4118-f8e1-a1116a7e8803"
      },
      "source": [
        "model.fit(X_train, y_train, batch_size=64, nb_epoch=50, shuffle=True, verbose=1)"
      ],
      "execution_count": 67,
      "outputs": [
        {
          "output_type": "stream",
          "text": [
            "/usr/local/lib/python3.6/dist-packages/ipykernel_launcher.py:1: UserWarning: The `nb_epoch` argument in `fit` has been renamed `epochs`.\n",
            "  \"\"\"Entry point for launching an IPython kernel.\n"
          ],
          "name": "stderr"
        },
        {
          "output_type": "stream",
          "text": [
            "Epoch 1/50\n",
            "2527/2527 [==============================] - 64s 26ms/step - loss: 1.6218 - acc: 0.3039\n",
            "Epoch 2/50\n",
            "2527/2527 [==============================] - 64s 26ms/step - loss: 1.6254 - acc: 0.3059\n",
            "Epoch 3/50\n",
            "2527/2527 [==============================] - 64s 25ms/step - loss: 1.6134 - acc: 0.3118\n",
            "Epoch 4/50\n",
            "2527/2527 [==============================] - 64s 26ms/step - loss: 1.5906 - acc: 0.3649\n",
            "Epoch 5/50\n",
            "2527/2527 [==============================] - 64s 25ms/step - loss: 1.5676 - acc: 0.3767\n",
            "Epoch 6/50\n",
            "2527/2527 [==============================] - 64s 25ms/step - loss: 1.5481 - acc: 0.3882\n",
            "Epoch 7/50\n",
            "2527/2527 [==============================] - 64s 25ms/step - loss: 1.5479 - acc: 0.3835\n",
            "Epoch 8/50\n",
            "2527/2527 [==============================] - 64s 25ms/step - loss: 1.5483 - acc: 0.3854\n",
            "Epoch 9/50\n",
            "2527/2527 [==============================] - 64s 25ms/step - loss: 1.5145 - acc: 0.3803\n",
            "Epoch 10/50\n",
            "2527/2527 [==============================] - 64s 25ms/step - loss: 1.4919 - acc: 0.4044\n",
            "Epoch 11/50\n",
            "2527/2527 [==============================] - 64s 25ms/step - loss: 1.5011 - acc: 0.3993\n",
            "Epoch 12/50\n",
            "2527/2527 [==============================] - 64s 25ms/step - loss: 1.4642 - acc: 0.4230\n",
            "Epoch 13/50\n",
            "2527/2527 [==============================] - 64s 25ms/step - loss: 1.4526 - acc: 0.4397\n",
            "Epoch 14/50\n",
            "2527/2527 [==============================] - 64s 25ms/step - loss: 1.4730 - acc: 0.4195\n",
            "Epoch 15/50\n",
            "2527/2527 [==============================] - 64s 25ms/step - loss: 1.4527 - acc: 0.4345\n",
            "Epoch 16/50\n",
            "2527/2527 [==============================] - 64s 25ms/step - loss: 1.4416 - acc: 0.4381\n",
            "Epoch 17/50\n",
            "2527/2527 [==============================] - 64s 25ms/step - loss: 1.4320 - acc: 0.4436\n",
            "Epoch 18/50\n",
            "2527/2527 [==============================] - 64s 25ms/step - loss: 1.4203 - acc: 0.4424\n",
            "Epoch 19/50\n",
            "2527/2527 [==============================] - 64s 25ms/step - loss: 1.4063 - acc: 0.4436\n",
            "Epoch 20/50\n",
            "2527/2527 [==============================] - 64s 25ms/step - loss: 1.4329 - acc: 0.4325\n",
            "Epoch 21/50\n",
            "2527/2527 [==============================] - 64s 25ms/step - loss: 1.4019 - acc: 0.4436\n",
            "Epoch 22/50\n",
            "2527/2527 [==============================] - 64s 25ms/step - loss: 1.4026 - acc: 0.4583\n",
            "Epoch 23/50\n",
            "2527/2527 [==============================] - 64s 25ms/step - loss: 1.3948 - acc: 0.4499\n",
            "Epoch 24/50\n",
            "2527/2527 [==============================] - 64s 25ms/step - loss: 1.3927 - acc: 0.4614\n",
            "Epoch 25/50\n",
            "2527/2527 [==============================] - 64s 25ms/step - loss: 1.3896 - acc: 0.4575\n",
            "Epoch 26/50\n",
            "2527/2527 [==============================] - 64s 25ms/step - loss: 1.3843 - acc: 0.4579\n",
            "Epoch 27/50\n",
            "2527/2527 [==============================] - 64s 25ms/step - loss: 1.3536 - acc: 0.4772\n",
            "Epoch 28/50\n",
            "2527/2527 [==============================] - 64s 25ms/step - loss: 1.3675 - acc: 0.4729\n",
            "Epoch 29/50\n",
            "2527/2527 [==============================] - 64s 25ms/step - loss: 1.3634 - acc: 0.4721\n",
            "Epoch 30/50\n",
            "2527/2527 [==============================] - 64s 25ms/step - loss: 1.3815 - acc: 0.4622\n",
            "Epoch 31/50\n",
            "2527/2527 [==============================] - 64s 25ms/step - loss: 1.3289 - acc: 0.4974\n",
            "Epoch 32/50\n",
            "2527/2527 [==============================] - 64s 25ms/step - loss: 1.3298 - acc: 0.4709\n",
            "Epoch 33/50\n",
            "2527/2527 [==============================] - 64s 25ms/step - loss: 1.3302 - acc: 0.4978\n",
            "Epoch 34/50\n",
            "2527/2527 [==============================] - 64s 25ms/step - loss: 1.3151 - acc: 0.4891\n",
            "Epoch 35/50\n",
            "2527/2527 [==============================] - 64s 26ms/step - loss: 1.2999 - acc: 0.4974\n",
            "Epoch 36/50\n",
            "2527/2527 [==============================] - 64s 26ms/step - loss: 1.3179 - acc: 0.4978\n",
            "Epoch 37/50\n",
            "2527/2527 [==============================] - 65s 26ms/step - loss: 1.2706 - acc: 0.5061\n",
            "Epoch 38/50\n",
            "2527/2527 [==============================] - 64s 26ms/step - loss: 1.3050 - acc: 0.4998\n",
            "Epoch 39/50\n",
            "2527/2527 [==============================] - 64s 25ms/step - loss: 1.2475 - acc: 0.5176\n",
            "Epoch 40/50\n",
            "2527/2527 [==============================] - 65s 26ms/step - loss: 1.2854 - acc: 0.5129\n",
            "Epoch 41/50\n",
            "2527/2527 [==============================] - 65s 26ms/step - loss: 1.2678 - acc: 0.5129\n",
            "Epoch 42/50\n",
            "2527/2527 [==============================] - 64s 25ms/step - loss: 1.2834 - acc: 0.5061\n",
            "Epoch 43/50\n",
            "2527/2527 [==============================] - 64s 26ms/step - loss: 1.2435 - acc: 0.5311\n",
            "Epoch 44/50\n",
            "2527/2527 [==============================] - 65s 26ms/step - loss: 1.2298 - acc: 0.5330\n",
            "Epoch 45/50\n",
            "2527/2527 [==============================] - 64s 26ms/step - loss: 1.2600 - acc: 0.5089\n",
            "Epoch 46/50\n",
            "2527/2527 [==============================] - 65s 26ms/step - loss: 1.2214 - acc: 0.5275\n",
            "Epoch 47/50\n",
            "2527/2527 [==============================] - 65s 26ms/step - loss: 1.2102 - acc: 0.5441\n",
            "Epoch 48/50\n",
            "2527/2527 [==============================] - 65s 26ms/step - loss: 1.2108 - acc: 0.5465\n",
            "Epoch 49/50\n",
            "2527/2527 [==============================] - 65s 26ms/step - loss: 1.2045 - acc: 0.5512\n",
            "Epoch 50/50\n",
            "2527/2527 [==============================] - 65s 26ms/step - loss: 1.2111 - acc: 0.5299\n"
          ],
          "name": "stdout"
        },
        {
          "output_type": "execute_result",
          "data": {
            "text/plain": [
              "<keras.callbacks.History at 0x7fc6890a8eb8>"
            ]
          },
          "metadata": {
            "tags": []
          },
          "execution_count": 67
        }
      ]
    },
    {
      "cell_type": "code",
      "metadata": {
        "id": "FV1DWeDgQKZ4",
        "colab_type": "code",
        "colab": {}
      },
      "source": [
        "from sklearn.model_selection import train_test_split\n",
        "X_train, X_test, y_train, y_test = train_test_split(X_train, y_train, test_size=0.2)"
      ],
      "execution_count": 0,
      "outputs": []
    },
    {
      "cell_type": "code",
      "metadata": {
        "id": "09wr9EWTQKPj",
        "colab_type": "code",
        "colab": {
          "base_uri": "https://localhost:8080/",
          "height": 35
        },
        "outputId": "d883a319-7a83-4f9a-f6ca-cfb19f580642"
      },
      "source": [
        "X_train.shape"
      ],
      "execution_count": 72,
      "outputs": [
        {
          "output_type": "execute_result",
          "data": {
            "text/plain": [
              "(2021, 200, 200, 3)"
            ]
          },
          "metadata": {
            "tags": []
          },
          "execution_count": 72
        }
      ]
    },
    {
      "cell_type": "code",
      "metadata": {
        "id": "vBYT-XtyYFae",
        "colab_type": "code",
        "colab": {
          "base_uri": "https://localhost:8080/",
          "height": 35
        },
        "outputId": "2e268901-498d-42bb-d4a2-b10d02e1d551"
      },
      "source": [
        "X_test.shape[0]"
      ],
      "execution_count": 75,
      "outputs": [
        {
          "output_type": "execute_result",
          "data": {
            "text/plain": [
              "506"
            ]
          },
          "metadata": {
            "tags": []
          },
          "execution_count": 75
        }
      ]
    },
    {
      "cell_type": "code",
      "metadata": {
        "id": "X77YsrSDZwaG",
        "colab_type": "code",
        "colab": {
          "base_uri": "https://localhost:8080/",
          "height": 126
        },
        "outputId": "920c84e7-4082-43fb-8e89-6c399ec1a6c1"
      },
      "source": [
        "from google.colab import drive\n",
        "drive.mount('/content/gdrive')"
      ],
      "execution_count": 78,
      "outputs": [
        {
          "output_type": "stream",
          "text": [
            "Go to this URL in a browser: https://accounts.google.com/o/oauth2/auth?client_id=947318989803-6bn6qk8qdgf4n4g3pfee6491hc0brc4i.apps.googleusercontent.com&redirect_uri=urn%3Aietf%3Awg%3Aoauth%3A2.0%3Aoob&scope=email%20https%3A%2F%2Fwww.googleapis.com%2Fauth%2Fdocs.test%20https%3A%2F%2Fwww.googleapis.com%2Fauth%2Fdrive%20https%3A%2F%2Fwww.googleapis.com%2Fauth%2Fdrive.photos.readonly%20https%3A%2F%2Fwww.googleapis.com%2Fauth%2Fpeopleapi.readonly&response_type=code\n",
            "\n",
            "Enter your authorization code:\n",
            "··········\n",
            "Mounted at /content/gdrive\n"
          ],
          "name": "stdout"
        }
      ]
    },
    {
      "cell_type": "code",
      "metadata": {
        "id": "x3rxb8VwNRfL",
        "colab_type": "code",
        "colab": {}
      },
      "source": [
        "checkpoint = ModelCheckpoint('gdrive/My Drive/garbage_weights/weights.{epoch:04d}-{val_acc:.2f}.hdf5',\n",
        "                             monitor='val_acc', \n",
        "                             save_best_only=True )\n",
        "\n",
        "\n",
        "logger = CSVLogger(os.path.join(\"gdrive/My Drive/garbage_weights\", \"training.csv\"))\n",
        "\n",
        "callbacks_list = [checkpoint, logger]\n",
        "\n",
        "# model = DenseNet(input_shape=(img_rows,img_cols,img_channels), nb_classes=200, depth=20, growth_rate=32,\n",
        "#                           dropout_rate=0.1, bottleneck=False, compression=0.5)\n",
        "model.compile(loss='categorical_crossentropy',\n",
        "             optimizer='adam',\n",
        "             metrics=['accuracy'])"
      ],
      "execution_count": 0,
      "outputs": []
    },
    {
      "cell_type": "code",
      "metadata": {
        "id": "Ue29cSaMYmJ2",
        "colab_type": "code",
        "colab": {
          "base_uri": "https://localhost:8080/",
          "height": 1000
        },
        "outputId": "36398355-fc08-48ac-a19d-698b73c7e5c3"
      },
      "source": [
        "model.fit(X_train, y_train,\n",
        "              batch_size=batch_size,\n",
        "              nb_epoch=nb_epoch,\n",
        "              validation_data=(X_test, y_test),\n",
        "              shuffle=True,callbacks=callbacks_list)"
      ],
      "execution_count": 80,
      "outputs": [
        {
          "output_type": "stream",
          "text": [
            "/usr/local/lib/python3.6/dist-packages/ipykernel_launcher.py:5: UserWarning: The `nb_epoch` argument in `fit` has been renamed `epochs`.\n",
            "  \"\"\"\n"
          ],
          "name": "stderr"
        },
        {
          "output_type": "stream",
          "text": [
            "Train on 2021 samples, validate on 506 samples\n",
            "Epoch 1/50\n",
            "2021/2021 [==============================] - 71s 35ms/step - loss: 1.1733 - acc: 0.5532 - val_loss: 1.2007 - val_acc: 0.5514\n",
            "Epoch 2/50\n",
            "2021/2021 [==============================] - 56s 28ms/step - loss: 1.1612 - acc: 0.5725 - val_loss: 1.1818 - val_acc: 0.5692\n",
            "Epoch 3/50\n",
            "2021/2021 [==============================] - 56s 28ms/step - loss: 1.1231 - acc: 0.5735 - val_loss: 1.2116 - val_acc: 0.5573\n",
            "Epoch 4/50\n",
            "2021/2021 [==============================] - 56s 27ms/step - loss: 1.1441 - acc: 0.5730 - val_loss: 1.2298 - val_acc: 0.5415\n",
            "Epoch 5/50\n",
            "2021/2021 [==============================] - 56s 28ms/step - loss: 1.1246 - acc: 0.5720 - val_loss: 1.2732 - val_acc: 0.5474\n",
            "Epoch 6/50\n",
            "2021/2021 [==============================] - 55s 27ms/step - loss: 1.1600 - acc: 0.5730 - val_loss: 1.2625 - val_acc: 0.5375\n",
            "Epoch 7/50\n",
            "2021/2021 [==============================] - 56s 28ms/step - loss: 1.1381 - acc: 0.5557 - val_loss: 1.2883 - val_acc: 0.5178\n",
            "Epoch 8/50\n",
            "2021/2021 [==============================] - 55s 27ms/step - loss: 1.1193 - acc: 0.5903 - val_loss: 1.3880 - val_acc: 0.5099\n",
            "Epoch 9/50\n",
            "2021/2021 [==============================] - 56s 27ms/step - loss: 1.1385 - acc: 0.5705 - val_loss: 1.2708 - val_acc: 0.5336\n",
            "Epoch 10/50\n",
            "2021/2021 [==============================] - 55s 27ms/step - loss: 1.1036 - acc: 0.5898 - val_loss: 1.2044 - val_acc: 0.5514\n",
            "Epoch 11/50\n",
            "2021/2021 [==============================] - 56s 27ms/step - loss: 1.0788 - acc: 0.5977 - val_loss: 1.2667 - val_acc: 0.5494\n",
            "Epoch 12/50\n",
            "2021/2021 [==============================] - 55s 27ms/step - loss: 1.0365 - acc: 0.6022 - val_loss: 1.3900 - val_acc: 0.5217\n",
            "Epoch 13/50\n",
            "2021/2021 [==============================] - 55s 27ms/step - loss: 1.1174 - acc: 0.5952 - val_loss: 1.2531 - val_acc: 0.5375\n",
            "Epoch 14/50\n",
            "2021/2021 [==============================] - 55s 27ms/step - loss: 1.1138 - acc: 0.5844 - val_loss: 1.3940 - val_acc: 0.5296\n",
            "Epoch 15/50\n",
            "2021/2021 [==============================] - 55s 27ms/step - loss: 1.0992 - acc: 0.5923 - val_loss: 1.3397 - val_acc: 0.5000\n",
            "Epoch 16/50\n",
            "2021/2021 [==============================] - 55s 27ms/step - loss: 1.1047 - acc: 0.5883 - val_loss: 1.3354 - val_acc: 0.5494\n",
            "Epoch 17/50\n",
            "2021/2021 [==============================] - 55s 27ms/step - loss: 1.1919 - acc: 0.5507 - val_loss: 1.3059 - val_acc: 0.5375\n",
            "Epoch 18/50\n",
            "2021/2021 [==============================] - 55s 27ms/step - loss: 1.1060 - acc: 0.5839 - val_loss: 1.2876 - val_acc: 0.5217\n",
            "Epoch 19/50\n",
            "2021/2021 [==============================] - 55s 27ms/step - loss: 1.0750 - acc: 0.5952 - val_loss: 1.3064 - val_acc: 0.5474\n",
            "Epoch 20/50\n",
            "2021/2021 [==============================] - 55s 27ms/step - loss: 1.0276 - acc: 0.6150 - val_loss: 1.3196 - val_acc: 0.5296\n",
            "Epoch 21/50\n",
            "2021/2021 [==============================] - 56s 27ms/step - loss: 1.0075 - acc: 0.6116 - val_loss: 1.4683 - val_acc: 0.4980\n",
            "Epoch 22/50\n",
            "2021/2021 [==============================] - 56s 27ms/step - loss: 0.9459 - acc: 0.6442 - val_loss: 1.4301 - val_acc: 0.5198\n",
            "Epoch 23/50\n",
            "2021/2021 [==============================] - 56s 28ms/step - loss: 1.0130 - acc: 0.6170 - val_loss: 1.5529 - val_acc: 0.4881\n",
            "Epoch 24/50\n",
            "2021/2021 [==============================] - 56s 27ms/step - loss: 1.0206 - acc: 0.6141 - val_loss: 1.3733 - val_acc: 0.5059\n",
            "Epoch 25/50\n",
            "2021/2021 [==============================] - 55s 27ms/step - loss: 1.0293 - acc: 0.6220 - val_loss: 1.3777 - val_acc: 0.5237\n",
            "Epoch 26/50\n",
            "2021/2021 [==============================] - 55s 27ms/step - loss: 1.0044 - acc: 0.6304 - val_loss: 1.3649 - val_acc: 0.5257\n",
            "Epoch 27/50\n",
            "2021/2021 [==============================] - 55s 27ms/step - loss: 0.9780 - acc: 0.6442 - val_loss: 1.4632 - val_acc: 0.5198\n",
            "Epoch 28/50\n",
            "2021/2021 [==============================] - 56s 27ms/step - loss: 1.0079 - acc: 0.6185 - val_loss: 1.5109 - val_acc: 0.5217\n",
            "Epoch 29/50\n",
            "2021/2021 [==============================] - 55s 27ms/step - loss: 1.0404 - acc: 0.6091 - val_loss: 1.4562 - val_acc: 0.5277\n",
            "Epoch 30/50\n",
            "2021/2021 [==============================] - 55s 27ms/step - loss: 0.9430 - acc: 0.6467 - val_loss: 1.4724 - val_acc: 0.5237\n",
            "Epoch 31/50\n",
            "2021/2021 [==============================] - 56s 27ms/step - loss: 0.9453 - acc: 0.6531 - val_loss: 1.7195 - val_acc: 0.5059\n",
            "Epoch 32/50\n",
            "2021/2021 [==============================] - 56s 27ms/step - loss: 0.9548 - acc: 0.6413 - val_loss: 1.6328 - val_acc: 0.4704\n",
            "Epoch 33/50\n",
            "2021/2021 [==============================] - 56s 28ms/step - loss: 0.9312 - acc: 0.6576 - val_loss: 1.5609 - val_acc: 0.4704\n",
            "Epoch 34/50\n",
            "2021/2021 [==============================] - 55s 27ms/step - loss: 0.9065 - acc: 0.6566 - val_loss: 1.6869 - val_acc: 0.5059\n",
            "Epoch 35/50\n",
            "2021/2021 [==============================] - 55s 27ms/step - loss: 0.8582 - acc: 0.6809 - val_loss: 1.6119 - val_acc: 0.5217\n",
            "Epoch 36/50\n",
            "2021/2021 [==============================] - 55s 27ms/step - loss: 0.8140 - acc: 0.6922 - val_loss: 1.8631 - val_acc: 0.4763\n",
            "Epoch 37/50\n",
            "2021/2021 [==============================] - 56s 27ms/step - loss: 0.9584 - acc: 0.6432 - val_loss: 1.5729 - val_acc: 0.4881\n",
            "Epoch 38/50\n",
            "2021/2021 [==============================] - 56s 27ms/step - loss: 1.0050 - acc: 0.6195 - val_loss: 1.4762 - val_acc: 0.4921\n",
            "Epoch 39/50\n",
            "2021/2021 [==============================] - 55s 27ms/step - loss: 0.8754 - acc: 0.6714 - val_loss: 1.8561 - val_acc: 0.4842\n",
            "Epoch 40/50\n",
            "2021/2021 [==============================] - 56s 28ms/step - loss: 0.9038 - acc: 0.6625 - val_loss: 1.5451 - val_acc: 0.5020\n",
            "Epoch 41/50\n",
            "2021/2021 [==============================] - 56s 27ms/step - loss: 0.8881 - acc: 0.6714 - val_loss: 1.6664 - val_acc: 0.4763\n",
            "Epoch 42/50\n",
            "2021/2021 [==============================] - 55s 27ms/step - loss: 0.9732 - acc: 0.6338 - val_loss: 1.7669 - val_acc: 0.4526\n",
            "Epoch 43/50\n",
            "2021/2021 [==============================] - 55s 27ms/step - loss: 0.9113 - acc: 0.6670 - val_loss: 1.8029 - val_acc: 0.4763\n",
            "Epoch 44/50\n",
            "2021/2021 [==============================] - 55s 27ms/step - loss: 0.7646 - acc: 0.7115 - val_loss: 1.9507 - val_acc: 0.4545\n",
            "Epoch 45/50\n",
            "2021/2021 [==============================] - 55s 27ms/step - loss: 0.7605 - acc: 0.7274 - val_loss: 2.0444 - val_acc: 0.4684\n",
            "Epoch 46/50\n",
            "2021/2021 [==============================] - 56s 27ms/step - loss: 0.8874 - acc: 0.6749 - val_loss: 1.7423 - val_acc: 0.4842\n",
            "Epoch 47/50\n",
            "2021/2021 [==============================] - 55s 27ms/step - loss: 0.7479 - acc: 0.7274 - val_loss: 1.8272 - val_acc: 0.5099\n",
            "Epoch 48/50\n",
            "2021/2021 [==============================] - 55s 27ms/step - loss: 0.8489 - acc: 0.6982 - val_loss: 1.6871 - val_acc: 0.4644\n",
            "Epoch 49/50\n",
            "2021/2021 [==============================] - 56s 28ms/step - loss: 0.7783 - acc: 0.7115 - val_loss: 2.0451 - val_acc: 0.4763\n",
            "Epoch 50/50\n",
            "2021/2021 [==============================] - 55s 27ms/step - loss: 1.0710 - acc: 0.6205 - val_loss: 1.5983 - val_acc: 0.5040\n"
          ],
          "name": "stdout"
        },
        {
          "output_type": "execute_result",
          "data": {
            "text/plain": [
              "<keras.callbacks.History at 0x7fc6862bdcc0>"
            ]
          },
          "metadata": {
            "tags": []
          },
          "execution_count": 80
        }
      ]
    },
    {
      "cell_type": "code",
      "metadata": {
        "id": "0ugh8UCLYl8-",
        "colab_type": "code",
        "colab": {
          "base_uri": "https://localhost:8080/",
          "height": 1000
        },
        "outputId": "7e85fdca-0321-48ac-ee7a-783fce780f0c"
      },
      "source": [
        "from keras.preprocessing.image import ImageDataGenerator\n",
        "\n",
        "datagen = ImageDataGenerator(\n",
        "    featurewise_center=True,\n",
        "    featurewise_std_normalization=True,\n",
        "    rotation_range=20,\n",
        "    width_shift_range=0.2,\n",
        "    height_shift_range=0.2,\n",
        "    horizontal_flip=True)\n",
        "\n",
        "datagen.fit(X_train)\n",
        "\n",
        "model.fit_generator(datagen.flow(X_train, y_train, batch_size=64),\n",
        "                    steps_per_epoch=len(X_train) / 64, epochs=50)"
      ],
      "execution_count": 81,
      "outputs": [
        {
          "output_type": "stream",
          "text": [
            "Epoch 1/50\n",
            "32/31 [==============================] - 51s 2s/step - loss: 2.1347 - acc: 0.2808\n",
            "Epoch 2/50\n",
            "32/31 [==============================] - 51s 2s/step - loss: 1.6349 - acc: 0.3297\n",
            "Epoch 3/50\n",
            "32/31 [==============================] - 51s 2s/step - loss: 1.5619 - acc: 0.3604\n",
            "Epoch 4/50\n",
            "32/31 [==============================] - 51s 2s/step - loss: 1.5238 - acc: 0.3805\n",
            "Epoch 5/50\n",
            "32/31 [==============================] - 51s 2s/step - loss: 1.5023 - acc: 0.3744\n",
            "Epoch 6/50\n",
            "32/31 [==============================] - 51s 2s/step - loss: 1.4913 - acc: 0.4059\n",
            "Epoch 7/50\n",
            "32/31 [==============================] - 51s 2s/step - loss: 1.5133 - acc: 0.3946\n",
            "Epoch 8/50\n",
            "32/31 [==============================] - 51s 2s/step - loss: 1.4545 - acc: 0.4226\n",
            "Epoch 9/50\n",
            "32/31 [==============================] - 51s 2s/step - loss: 1.4521 - acc: 0.4240\n",
            "Epoch 10/50\n",
            "32/31 [==============================] - 51s 2s/step - loss: 1.4687 - acc: 0.4190\n",
            "Epoch 11/50\n",
            "32/31 [==============================] - 51s 2s/step - loss: 1.4456 - acc: 0.4271\n",
            "Epoch 12/50\n",
            "32/31 [==============================] - 51s 2s/step - loss: 1.4321 - acc: 0.4426\n",
            "Epoch 13/50\n",
            "32/31 [==============================] - 51s 2s/step - loss: 1.4711 - acc: 0.4173\n",
            "Epoch 14/50\n",
            "32/31 [==============================] - 51s 2s/step - loss: 1.4412 - acc: 0.4288\n",
            "Epoch 15/50\n",
            "32/31 [==============================] - 51s 2s/step - loss: 1.4173 - acc: 0.4440\n",
            "Epoch 16/50\n",
            "32/31 [==============================] - 51s 2s/step - loss: 1.3979 - acc: 0.4312\n",
            "Epoch 17/50\n",
            "32/31 [==============================] - 51s 2s/step - loss: 1.4092 - acc: 0.4300\n",
            "Epoch 18/50\n",
            "32/31 [==============================] - 51s 2s/step - loss: 1.3930 - acc: 0.4429\n",
            "Epoch 19/50\n",
            "32/31 [==============================] - 51s 2s/step - loss: 1.3728 - acc: 0.4444\n",
            "Epoch 20/50\n",
            "32/31 [==============================] - 51s 2s/step - loss: 1.3989 - acc: 0.4387\n",
            "Epoch 21/50\n",
            "32/31 [==============================] - 51s 2s/step - loss: 1.3684 - acc: 0.4512\n",
            "Epoch 22/50\n",
            "32/31 [==============================] - 51s 2s/step - loss: 1.3721 - acc: 0.4568\n",
            "Epoch 23/50\n",
            "32/31 [==============================] - 51s 2s/step - loss: 1.3719 - acc: 0.4498\n",
            "Epoch 24/50\n",
            "32/31 [==============================] - 51s 2s/step - loss: 1.3504 - acc: 0.4612\n",
            "Epoch 25/50\n",
            "32/31 [==============================] - 51s 2s/step - loss: 1.3563 - acc: 0.4608\n",
            "Epoch 26/50\n",
            "32/31 [==============================] - 51s 2s/step - loss: 1.3621 - acc: 0.4642\n",
            "Epoch 27/50\n",
            "32/31 [==============================] - 51s 2s/step - loss: 1.3544 - acc: 0.4638\n",
            "Epoch 28/50\n",
            "32/31 [==============================] - 51s 2s/step - loss: 1.3746 - acc: 0.4498\n",
            "Epoch 29/50\n",
            "32/31 [==============================] - 51s 2s/step - loss: 1.3436 - acc: 0.4729\n",
            "Epoch 30/50\n",
            "32/31 [==============================] - 51s 2s/step - loss: 1.3258 - acc: 0.4741\n",
            "Epoch 31/50\n",
            "32/31 [==============================] - 51s 2s/step - loss: 1.3414 - acc: 0.4656\n",
            "Epoch 32/50\n",
            "32/31 [==============================] - 51s 2s/step - loss: 1.3306 - acc: 0.4754\n",
            "Epoch 33/50\n",
            "32/31 [==============================] - 51s 2s/step - loss: 1.3253 - acc: 0.4773\n",
            "Epoch 34/50\n",
            "32/31 [==============================] - 51s 2s/step - loss: 1.3304 - acc: 0.4837\n",
            "Epoch 35/50\n",
            "32/31 [==============================] - 51s 2s/step - loss: 1.4205 - acc: 0.4323\n",
            "Epoch 36/50\n",
            "32/31 [==============================] - 51s 2s/step - loss: 1.3929 - acc: 0.4461\n",
            "Epoch 37/50\n",
            "32/31 [==============================] - 51s 2s/step - loss: 1.3526 - acc: 0.4608\n",
            "Epoch 38/50\n",
            "32/31 [==============================] - 51s 2s/step - loss: 1.2947 - acc: 0.4932\n",
            "Epoch 39/50\n",
            "32/31 [==============================] - 51s 2s/step - loss: 1.3223 - acc: 0.4748\n",
            "Epoch 40/50\n",
            "32/31 [==============================] - 51s 2s/step - loss: 1.2981 - acc: 0.4900\n",
            "Epoch 41/50\n",
            "32/31 [==============================] - 51s 2s/step - loss: 1.2915 - acc: 0.4967\n",
            "Epoch 42/50\n",
            "32/31 [==============================] - 51s 2s/step - loss: 1.2907 - acc: 0.5030\n",
            "Epoch 43/50\n",
            "32/31 [==============================] - 51s 2s/step - loss: 1.2849 - acc: 0.4999\n",
            "Epoch 44/50\n",
            "32/31 [==============================] - 51s 2s/step - loss: 1.2661 - acc: 0.5100\n",
            "Epoch 45/50\n",
            "32/31 [==============================] - 51s 2s/step - loss: 1.2948 - acc: 0.4999\n",
            "Epoch 46/50\n",
            "32/31 [==============================] - 51s 2s/step - loss: 1.3092 - acc: 0.4939\n",
            "Epoch 47/50\n",
            "32/31 [==============================] - 51s 2s/step - loss: 1.2765 - acc: 0.5084\n",
            "Epoch 48/50\n",
            "32/31 [==============================] - 51s 2s/step - loss: 1.2785 - acc: 0.5061\n",
            "Epoch 49/50\n",
            "32/31 [==============================] - 51s 2s/step - loss: 1.2529 - acc: 0.5126\n",
            "Epoch 50/50\n",
            "32/31 [==============================] - 51s 2s/step - loss: 1.2849 - acc: 0.5095\n"
          ],
          "name": "stdout"
        },
        {
          "output_type": "execute_result",
          "data": {
            "text/plain": [
              "<keras.callbacks.History at 0x7fc67e96ef60>"
            ]
          },
          "metadata": {
            "tags": []
          },
          "execution_count": 81
        }
      ]
    },
    {
      "cell_type": "code",
      "metadata": {
        "id": "r0mjBceoszvO",
        "colab_type": "code",
        "colab": {
          "base_uri": "https://localhost:8080/",
          "height": 168
        },
        "outputId": "b9033ec9-7113-412c-afff-5e4a95399a64"
      },
      "source": [
        "model.save_weights('first_try.h5')  # always save your weights after training or during training"
      ],
      "execution_count": 1,
      "outputs": [
        {
          "output_type": "error",
          "ename": "NameError",
          "evalue": "ignored",
          "traceback": [
            "\u001b[0;31m---------------------------------------------------------------------------\u001b[0m",
            "\u001b[0;31mNameError\u001b[0m                                 Traceback (most recent call last)",
            "\u001b[0;32m<ipython-input-1-e0fc1689d17b>\u001b[0m in \u001b[0;36m<module>\u001b[0;34m()\u001b[0m\n\u001b[0;32m----> 1\u001b[0;31m \u001b[0mmodel\u001b[0m\u001b[0;34m.\u001b[0m\u001b[0msave_weights\u001b[0m\u001b[0;34m(\u001b[0m\u001b[0;34m'first_try.h5'\u001b[0m\u001b[0;34m)\u001b[0m  \u001b[0;31m# always save your weights after training or during training\u001b[0m\u001b[0;34m\u001b[0m\u001b[0;34m\u001b[0m\u001b[0m\n\u001b[0m",
            "\u001b[0;31mNameError\u001b[0m: name 'model' is not defined"
          ]
        }
      ]
    },
    {
      "cell_type": "code",
      "metadata": {
        "id": "7YzzKwXbvG5m",
        "colab_type": "code",
        "colab": {
          "base_uri": "https://localhost:8080/",
          "height": 168
        },
        "outputId": "18cea285-55eb-4a6d-cd4c-939f2a4e2d09"
      },
      "source": [
        "scores = model.evaluate(X_test, y_test, verbose=0)"
      ],
      "execution_count": 2,
      "outputs": [
        {
          "output_type": "error",
          "ename": "NameError",
          "evalue": "ignored",
          "traceback": [
            "\u001b[0;31m---------------------------------------------------------------------------\u001b[0m",
            "\u001b[0;31mNameError\u001b[0m                                 Traceback (most recent call last)",
            "\u001b[0;32m<ipython-input-2-e38f21053f52>\u001b[0m in \u001b[0;36m<module>\u001b[0;34m()\u001b[0m\n\u001b[0;32m----> 1\u001b[0;31m \u001b[0mscores\u001b[0m \u001b[0;34m=\u001b[0m \u001b[0mmodel\u001b[0m\u001b[0;34m.\u001b[0m\u001b[0mevaluate\u001b[0m\u001b[0;34m(\u001b[0m\u001b[0mX_test\u001b[0m\u001b[0;34m,\u001b[0m \u001b[0my_test\u001b[0m\u001b[0;34m,\u001b[0m \u001b[0mverbose\u001b[0m\u001b[0;34m=\u001b[0m\u001b[0;36m0\u001b[0m\u001b[0;34m)\u001b[0m\u001b[0;34m\u001b[0m\u001b[0;34m\u001b[0m\u001b[0m\n\u001b[0m",
            "\u001b[0;31mNameError\u001b[0m: name 'model' is not defined"
          ]
        }
      ]
    }
  ]
}